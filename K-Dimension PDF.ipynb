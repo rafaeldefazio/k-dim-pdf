{
 "cells": [
  {
   "cell_type": "code",
   "execution_count": 1,
   "id": "9a040a37",
   "metadata": {},
   "outputs": [],
   "source": [
    "import numpy as np\n",
    "import math\n",
    "\n",
    "\n",
    "# GET PDF GIVEN x, mi and sigma matrix (k dimension)\n",
    "def nth_dimension_pdf(xyzk_vector, mi_vector, sigma_matrix):\n",
    "    \n",
    "    # get k dimension\n",
    "    k = len(xyzk_vector)\n",
    "        \n",
    "    \n",
    "    # reshape to column-wise matrix\n",
    "    xyzk_vector_t = xyzk_vector.reshape(-1, 1)\n",
    "    mi_vector_t = mi_vector.reshape(-1, 1)\n",
    "    \n",
    "    \n",
    "    assert len(mi_vector)==k, 'Mi vector musts have the same dimension of input vector'\n",
    "    assert sigma_matrix.shape[0] == sigma_matrix.shape[1] == k, 'Sigma matrix musts have nxn dimension, where n is the dimension of input vector'\n",
    "    \n",
    "    ## FIRST PART OF FORMULA\n",
    "    f1 = math.pow(2*math.pi, -(k/2))\n",
    "    \n",
    "    \n",
    "    ## SECOND PART OF FORMULA\n",
    "    sigma_matrix_det = np.linalg.det(sigma_matrix)\n",
    "    sigma_matrix_inv = np.linalg.inv(sigma_matrix) \n",
    "    \n",
    "    assert (sigma_matrix_det > 0), 'Non-positive determinant'\n",
    "    \n",
    "    f2 = math.pow(sigma_matrix_det, -(1/2))\n",
    "    \n",
    "    \n",
    "    ## THIRD PART OF FORMULA\n",
    "    xyzk_diff_mi = xyzk_vector_t - mi_vector_t\n",
    "    xyzk_diff_mi_t = xyzk_diff_mi.transpose()\n",
    "    \n",
    "    first_mult = np.matmul(xyzk_diff_mi_t, sigma_matrix_inv)\n",
    "    mult_result = np.matmul(first_mult, xyzk_diff_mi)\n",
    "    \n",
    "    f3 = math.pow(math.e, -(1/2) * mult_result)\n",
    "    \n",
    "    return math.exp(math.log(f1) +  math.log(f2) + math.log(f3))\n",
    "    \n",
    "\n",
    "    \n",
    "def test_result(result, reference):\n",
    "    assert round(result, 6) == round(reference, 6), 'Failed'\n",
    "    \n",
    "    \n",
    "def gen_diag_matrix(dimension):\n",
    "    b_m = np.zeros((len(k_values), len(k_values)), int)\n",
    "    np.fill_diagonal(b_m, 1)                 \n",
    "    return np.matrix(b_m)\n"
   ]
  },
  {
   "cell_type": "code",
   "execution_count": 2,
   "id": "8c362232",
   "metadata": {},
   "outputs": [
    {
     "name": "stdout",
     "output_type": "stream",
     "text": [
      "0.24197072451914337\n",
      "OK\n"
     ]
    }
   ],
   "source": [
    "import unittest\n",
    "\n",
    "k_values = np.array([1])\n",
    "m_v = np.array([0])\n",
    "s_m = np.matrix([[1]])\n",
    "\n",
    "r_1_dimension = nth_dimension_pdf(k_values, m_v, s_m)\n",
    "\n",
    "# library(\"mvtnorm\")\n",
    "# must match 0.2419707\n",
    "# > dmvnorm(c(1), mean=c(0), sigma=diag(1))\n",
    "\n",
    "test_result(r_1_dimension, 0.2419707)\n",
    "\n",
    "print(r_1_dimension)\n",
    "print('OK')"
   ]
  },
  {
   "cell_type": "code",
   "execution_count": 3,
   "id": "4f8114e4",
   "metadata": {},
   "outputs": [
    {
     "name": "stdout",
     "output_type": "stream",
     "text": [
      "0.021539279301848634\n",
      "OK\n"
     ]
    }
   ],
   "source": [
    "k_values = np.array([1, 3])\n",
    "m_v = np.array([1, 1])\n",
    "d_m = gen_diag_matrix(2)\n",
    "\n",
    "\n",
    "# library(\"mvtnorm\")\n",
    "# > dmvnorm(c(1, 3), mean=c(1, 1), sigma=diag(2))\n",
    "# must match 0.02153928\n",
    "r_2_dimension = nth_dimension_pdf(k_values, m_v, d_m)\n",
    "\n",
    "test_result(r_2_dimension, 0.02153928)\n",
    "\n",
    "print(r_2_dimension)\n",
    "print('OK')"
   ]
  },
  {
   "cell_type": "code",
   "execution_count": 4,
   "id": "ed094a61",
   "metadata": {},
   "outputs": [
    {
     "name": "stdout",
     "output_type": "stream",
     "text": [
      "0.00859292920288287\n",
      "OK\n"
     ]
    }
   ],
   "source": [
    "k_values = np.array([1, 3, 5])\n",
    "m_v = np.array([1, 1, 5])\n",
    "d_m = gen_diag_matrix(3)\n",
    "\n",
    "\n",
    "# library(\"mvtnorm\")\n",
    "# > dmvnorm(c(1, 3, 5), mean=c(1, 1, 5), sigma=diag(3))\n",
    "# must match 0.008592929\n",
    "r_3_dimension = nth_dimension_pdf(k_values, m_v, d_m)\n",
    "\n",
    "test_result(r_3_dimension, 0.008592929)\n",
    "\n",
    "print(r_3_dimension)\n",
    "print('OK')"
   ]
  },
  {
   "cell_type": "code",
   "execution_count": 5,
   "id": "ec459797",
   "metadata": {},
   "outputs": [
    {
     "name": "stdout",
     "output_type": "stream",
     "text": [
      "0.0037175416868162653\n",
      "OK\n"
     ]
    }
   ],
   "source": [
    "k_values = np.array([1,0,0,1,1])\n",
    "m_v = np.array([1,0,1,0,1])\n",
    "d_m = gen_diag_matrix(5)\n",
    "\n",
    "\n",
    "# library(\"mvtnorm\")\n",
    "# > dmvnorm(c(1,0,0,1,1), mean=c(1,0,1,0,1), sigma=diag(5))\n",
    "# must match 0.003717542\n",
    "r_4_dimension = nth_dimension_pdf(k_values, m_v, d_m)\n",
    "\n",
    "\n",
    "test_result(r_4_dimension, .003717542)\n",
    "\n",
    "print(r_4_dimension)\n",
    "\n",
    "print('OK')\n"
   ]
  },
  {
   "cell_type": "code",
   "execution_count": 6,
   "id": "134d3701",
   "metadata": {},
   "outputs": [
    {
     "name": "stdout",
     "output_type": "stream",
     "text": [
      "0.00010211761384541827\n",
      "OK\n"
     ]
    }
   ],
   "source": [
    "k_values = np.array([1.045262, -1.246758, 0.7664816, 0.1527165, -0.9281716, 0.05988765, 1.471798, -0.1855306, 1.161168, -0.6785769])\n",
    "m_v = np.array([0,0,0,0,0,0,1,0,0,0])\n",
    "d_m = gen_diag_matrix(10)\n",
    "\n",
    "# library(\"mvtnorm\")\n",
    "# x <- rmvnorm(1, mean=c(0, 0, 0, 0, 0, 0, 0, 0, 0, 0), sigma=diag(10))\n",
    "# > dmvnorm(x, mean=x, sigma=diag(10))\n",
    "# must match 0.0001021176\n",
    "r_10_dimension = nth_dimension_pdf(k_values, k_values, d_m)\n",
    "\n",
    "test_result(r_10_dimension, .0001021176)\n",
    "\n",
    "print(r_10_dimension)\n",
    "print('OK')"
   ]
  }
 ],
 "metadata": {
  "kernelspec": {
   "display_name": "Python 3",
   "language": "python",
   "name": "python3"
  },
  "language_info": {
   "codemirror_mode": {
    "name": "ipython",
    "version": 3
   },
   "file_extension": ".py",
   "mimetype": "text/x-python",
   "name": "python",
   "nbconvert_exporter": "python",
   "pygments_lexer": "ipython3",
   "version": "3.8.10"
  }
 },
 "nbformat": 4,
 "nbformat_minor": 5
}
