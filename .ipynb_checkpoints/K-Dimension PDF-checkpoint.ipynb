{
 "cells": [
  {
   "cell_type": "code",
   "execution_count": 232,
   "id": "9a040a37",
   "metadata": {},
   "outputs": [],
   "source": [
    "import numpy as np\n",
    "import math\n",
    "\n",
    "\n",
    "# GET PDF GIVEN x, mi and sigma matrix (k dimension)\n",
    "def nth_dimension_pdf(xyzk_vector, mi_vector, sigma_matrix):\n",
    "    \n",
    "    # get k dimension\n",
    "    k = len(xyzk_vector)\n",
    "        \n",
    "    \n",
    "    # reshape to column-wise matrix\n",
    "    xyzk_vector_t = xyzk_vector.reshape(-1, 1)\n",
    "    mi_vector_t = mi_vector.reshape(-1, 1)\n",
    "    \n",
    "    \n",
    "    assert len(mi_vector)==k, 'Mi vector musts have the same dimension of input vector'\n",
    "    assert sigma_matrix.shape[0] == sigma_matrix.shape[1] == k, 'Sigma matrix musts have nxn dimension, where n is the dimension of input vector'\n",
    "    \n",
    "    ## FIRST PART OF FORMULA\n",
    "    f1 = math.pow(2*math.pi, -(k/2))\n",
    "    \n",
    "    \n",
    "    ## SECOND PART OF FORMULA\n",
    "    sigma_matrix_det = np.linalg.det(sigma_matrix)\n",
    "    sigma_matrix_inv = np.linalg.inv(sigma_matrix) \n",
    "    \n",
    "    assert (sigma_matrix_det > 0), 'Non-positive determinant'\n",
    "    \n",
    "    f2 = math.pow(sigma_matrix_det, -(1/2))\n",
    "    \n",
    "    \n",
    "    ## THIRD PART OF FORMULA\n",
    "    xyzk_diff_mi = xyzk_vector_t - mi_vector_t\n",
    "    xyzk_diff_mi_t = xyzk_diff_mi.transpose()\n",
    "    \n",
    "    first_mult = np.matmul(xyzk_diff_mi_t, sigma_matrix_inv)\n",
    "    mult_result = np.matmul(first_mult, xyzk_diff_mi)\n",
    "    \n",
    "    f3 = math.pow(math.e, -(1/2) * mult_result)\n",
    "    \n",
    "    if(f1==0 or f2==0 or f3==0):\n",
    "        return 0\n",
    "    \n",
    "    return math.exp(math.log(f1) +  math.log(f2) + math.log(f3))\n",
    "    \n",
    "\n",
    "    \n",
    "def test_result(result, reference):\n",
    "    assert round(result, 6) == round(reference, 6), 'Failed'\n",
    "    \n",
    "    \n",
    "def gen_diag_matrix(dimension, val=1):\n",
    "    b_m = np.zeros((dimension, dimension), float)\n",
    "    np.fill_diagonal(b_m, val)                 \n",
    "    return np.matrix(b_m)\n"
   ]
  },
  {
   "cell_type": "code",
   "execution_count": 209,
   "id": "8c362232",
   "metadata": {},
   "outputs": [
    {
     "name": "stdout",
     "output_type": "stream",
     "text": [
      "0.24197072451914337\n",
      "OK\n"
     ]
    }
   ],
   "source": [
    "import unittest\n",
    "\n",
    "k_values = np.array([1])\n",
    "m_v = np.array([0])\n",
    "s_m = np.matrix([[1]])\n",
    "\n",
    "r_1_dimension = nth_dimension_pdf(k_values, m_v, s_m)\n",
    "\n",
    "# library(\"mvtnorm\")\n",
    "# must match 0.2419707\n",
    "# > dmvnorm(c(1), mean=c(0), sigma=diag(1))\n",
    "\n",
    "test_result(r_1_dimension, 0.2419707)\n",
    "\n",
    "print(r_1_dimension)\n",
    "print('OK')"
   ]
  },
  {
   "cell_type": "code",
   "execution_count": 210,
   "id": "4f8114e4",
   "metadata": {},
   "outputs": [
    {
     "name": "stdout",
     "output_type": "stream",
     "text": [
      "0.021539279301848634\n",
      "OK\n"
     ]
    }
   ],
   "source": [
    "k_values = np.array([1, 3])\n",
    "m_v = np.array([1, 1])\n",
    "d_m = gen_diag_matrix(2)\n",
    "\n",
    "\n",
    "# library(\"mvtnorm\")\n",
    "# > dmvnorm(c(1, 3), mean=c(1, 1), sigma=diag(2))\n",
    "# must match 0.02153928\n",
    "r_2_dimension = nth_dimension_pdf(k_values, m_v, d_m)\n",
    "\n",
    "test_result(r_2_dimension, 0.02153928)\n",
    "\n",
    "print(r_2_dimension)\n",
    "print('OK')"
   ]
  },
  {
   "cell_type": "code",
   "execution_count": 211,
   "id": "ed094a61",
   "metadata": {},
   "outputs": [
    {
     "name": "stdout",
     "output_type": "stream",
     "text": [
      "0.00859292920288287\n",
      "OK\n"
     ]
    }
   ],
   "source": [
    "k_values = np.array([1, 3, 5])\n",
    "m_v = np.array([1, 1, 5])\n",
    "d_m = gen_diag_matrix(3)\n",
    "\n",
    "\n",
    "# library(\"mvtnorm\")\n",
    "# > dmvnorm(c(1, 3, 5), mean=c(1, 1, 5), sigma=diag(3))\n",
    "# must match 0.008592929\n",
    "r_3_dimension = nth_dimension_pdf(k_values, m_v, d_m)\n",
    "\n",
    "test_result(r_3_dimension, 0.008592929)\n",
    "\n",
    "print(r_3_dimension)\n",
    "print('OK')"
   ]
  },
  {
   "cell_type": "code",
   "execution_count": 212,
   "id": "ec459797",
   "metadata": {},
   "outputs": [
    {
     "name": "stdout",
     "output_type": "stream",
     "text": [
      "0.0037175416868162653\n",
      "OK\n"
     ]
    }
   ],
   "source": [
    "k_values = np.array([1,0,0,1,1])\n",
    "m_v = np.array([1,0,1,0,1])\n",
    "d_m = gen_diag_matrix(5)\n",
    "\n",
    "\n",
    "# library(\"mvtnorm\")\n",
    "# > dmvnorm(c(1,0,0,1,1), mean=c(1,0,1,0,1), sigma=diag(5))\n",
    "# must match 0.003717542\n",
    "r_4_dimension = nth_dimension_pdf(k_values, m_v, d_m)\n",
    "\n",
    "\n",
    "test_result(r_4_dimension, .003717542)\n",
    "\n",
    "print(r_4_dimension)\n",
    "\n",
    "print('OK')\n"
   ]
  },
  {
   "cell_type": "code",
   "execution_count": 213,
   "id": "134d3701",
   "metadata": {},
   "outputs": [
    {
     "name": "stdout",
     "output_type": "stream",
     "text": [
      "0.00010211761384541827\n",
      "OK\n"
     ]
    }
   ],
   "source": [
    "k_values = np.array([1.045262, -1.246758, 0.7664816, 0.1527165, -0.9281716, 0.05988765, 1.471798, -0.1855306, 1.161168, -0.6785769])\n",
    "m_v = np.array([0,0,0,0,0,0,1,0,0,0])\n",
    "d_m = gen_diag_matrix(10)\n",
    "\n",
    "# library(\"mvtnorm\")\n",
    "# x <- rmvnorm(1, mean=c(0, 0, 0, 0, 0, 0, 0, 0, 0, 0), sigma=diag(10))\n",
    "# > dmvnorm(x, mean=x, sigma=diag(10))\n",
    "# must match 0.0001021176\n",
    "r_10_dimension = nth_dimension_pdf(k_values, k_values, d_m)\n",
    "\n",
    "test_result(r_10_dimension, .0001021176)\n",
    "\n",
    "print(r_10_dimension)\n",
    "print('OK')"
   ]
  },
  {
   "cell_type": "code",
   "execution_count": 233,
   "id": "059e1f2b",
   "metadata": {},
   "outputs": [],
   "source": [
    "def kde(xyzk_vector, dataset_matrix, h_vector):\n",
    "    \n",
    "    columns_transpose = dataset_matrix.transpose()\n",
    "    column_cnt = dataset_matrix.shape[1]\n",
    "    xyzk_vector_t = xyzk_vector.transpose()\n",
    "    \n",
    "    kde = 0\n",
    "\n",
    "    for column in columns_transpose:\n",
    "        x_i = column.transpose()\n",
    "        kth_gauss_pdf = nth_dimension_pdf(xyzk_vector_t, x_i, h_vector)\n",
    "        kde += kth_gauss_pdf\n",
    "        \n",
    "    if(kde==0):\n",
    "        return 0\n",
    "    \n",
    "    return math.exp(math.log(kde) - math.log(column_cnt))\n",
    "        \n",
    "\n",
    "    #for index in dataset_columns:\n",
    "     #   print(index)\n",
    "        #kth_gauss_pdf = nth_dimension_pdf(xyzk_vector, np.matrix([index]), d_m)"
   ]
  },
  {
   "cell_type": "code",
   "execution_count": 277,
   "id": "ceba02a5",
   "metadata": {
    "scrolled": true
   },
   "outputs": [
    {
     "data": {
      "text/html": [
       "<div>\n",
       "<style scoped>\n",
       "    .dataframe tbody tr th:only-of-type {\n",
       "        vertical-align: middle;\n",
       "    }\n",
       "\n",
       "    .dataframe tbody tr th {\n",
       "        vertical-align: top;\n",
       "    }\n",
       "\n",
       "    .dataframe thead th {\n",
       "        text-align: right;\n",
       "    }\n",
       "</style>\n",
       "<table border=\"1\" class=\"dataframe\">\n",
       "  <thead>\n",
       "    <tr style=\"text-align: right;\">\n",
       "      <th></th>\n",
       "      <th>x</th>\n",
       "      <th>y</th>\n",
       "      <th>pdf</th>\n",
       "    </tr>\n",
       "  </thead>\n",
       "  <tbody>\n",
       "    <tr>\n",
       "      <th>0</th>\n",
       "      <td>0</td>\n",
       "      <td>0</td>\n",
       "      <td>2.202540e-88</td>\n",
       "    </tr>\n",
       "    <tr>\n",
       "      <th>1</th>\n",
       "      <td>0</td>\n",
       "      <td>1</td>\n",
       "      <td>3.931144e-80</td>\n",
       "    </tr>\n",
       "    <tr>\n",
       "      <th>2</th>\n",
       "      <td>0</td>\n",
       "      <td>2</td>\n",
       "      <td>9.495659e-73</td>\n",
       "    </tr>\n",
       "    <tr>\n",
       "      <th>3</th>\n",
       "      <td>0</td>\n",
       "      <td>3</td>\n",
       "      <td>3.104147e-66</td>\n",
       "    </tr>\n",
       "    <tr>\n",
       "      <th>4</th>\n",
       "      <td>0</td>\n",
       "      <td>4</td>\n",
       "      <td>1.373316e-60</td>\n",
       "    </tr>\n",
       "    <tr>\n",
       "      <th>...</th>\n",
       "      <td>...</td>\n",
       "      <td>...</td>\n",
       "      <td>...</td>\n",
       "    </tr>\n",
       "    <tr>\n",
       "      <th>2369</th>\n",
       "      <td>47</td>\n",
       "      <td>19</td>\n",
       "      <td>1.468413e-318</td>\n",
       "    </tr>\n",
       "    <tr>\n",
       "      <th>2370</th>\n",
       "      <td>47</td>\n",
       "      <td>20</td>\n",
       "      <td>3.991561e-318</td>\n",
       "    </tr>\n",
       "    <tr>\n",
       "      <th>2371</th>\n",
       "      <td>47</td>\n",
       "      <td>21</td>\n",
       "      <td>1.468413e-318</td>\n",
       "    </tr>\n",
       "    <tr>\n",
       "      <th>2372</th>\n",
       "      <td>47</td>\n",
       "      <td>22</td>\n",
       "      <td>7.311183e-320</td>\n",
       "    </tr>\n",
       "    <tr>\n",
       "      <th>2373</th>\n",
       "      <td>47</td>\n",
       "      <td>23</td>\n",
       "      <td>4.940656e-322</td>\n",
       "    </tr>\n",
       "  </tbody>\n",
       "</table>\n",
       "<p>2006 rows × 3 columns</p>\n",
       "</div>"
      ],
      "text/plain": [
       "       x   y            pdf\n",
       "0      0   0   2.202540e-88\n",
       "1      0   1   3.931144e-80\n",
       "2      0   2   9.495659e-73\n",
       "3      0   3   3.104147e-66\n",
       "4      0   4   1.373316e-60\n",
       "...   ..  ..            ...\n",
       "2369  47  19  1.468413e-318\n",
       "2370  47  20  3.991561e-318\n",
       "2371  47  21  1.468413e-318\n",
       "2372  47  22  7.311183e-320\n",
       "2373  47  23  4.940656e-322\n",
       "\n",
       "[2006 rows x 3 columns]"
      ]
     },
     "execution_count": 277,
     "metadata": {},
     "output_type": "execute_result"
    }
   ],
   "source": [
    "from itertools import product\n",
    "import pandas as pd\n",
    "\n",
    "my_dataset = [[20, 20], [10, 10]]\n",
    "d_m = gen_diag_matrix(2, .5)\n",
    "\n",
    "xlen = range(0, 50, 1)\n",
    "ylen = range(0, 50, 1)\n",
    "\n",
    "xy_grid = product(xlen, ylen)\n",
    "\n",
    "result = []\n",
    "\n",
    "for x, y in list(xy_grid):\n",
    "    result.append([x, y, kde(np.array([x, y]), np.matrix(my_dataset).transpose(), d_m)])\n",
    "    \n",
    "result_df = pd.DataFrame(result, columns =['x', 'y', 'pdf'])\n",
    "\n",
    "result_df[result_df['pdf'] > 0]"
   ]
  },
  {
   "cell_type": "code",
   "execution_count": 278,
   "id": "39cbb6fa",
   "metadata": {},
   "outputs": [
    {
     "data": {
      "image/png": "[encoded data removed]",
      "text/plain": [
       "<Figure size 432x288 with 1 Axes>"
      ]
     },
     "metadata": {
      "needs_background": "light"
     },
     "output_type": "display_data"
    }
   ],
   "source": [
    "%matplotlib inline\n",
    "import numpy as np\n",
    "import matplotlib.pyplot as plt\n",
    "\n",
    "fig = plt.figure()\n",
    "ax = plt.axes(projection='3d')\n",
    "\n",
    "x = result_df['x']\n",
    "y = result_df['y']\n",
    "z = result_df['pdf']\n",
    "\n",
    "ax.plot_trisurf(x, y, z, cmap='viridis', edgecolor='none');"
   ]
  }
 ],
 "metadata": {
  "kernelspec": {
   "display_name": "Python 3",
   "language": "python",
   "name": "python3"
  },
  "language_info": {
   "codemirror_mode": {
    "name": "ipython",
    "version": 3
   },
   "file_extension": ".py",
   "mimetype": "text/x-python",
   "name": "python",
   "nbconvert_exporter": "python",
   "pygments_lexer": "ipython3",
   "version": "3.8.10"
  }
 },
 "nbformat": 4,
 "nbformat_minor": 5
}
